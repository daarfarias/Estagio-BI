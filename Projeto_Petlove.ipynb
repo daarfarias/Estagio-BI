{
  "nbformat": 4,
  "nbformat_minor": 0,
  "metadata": {
    "colab": {
      "name": "Cópia de Projeto_Petlove.ipynb",
      "provenance": [],
      "collapsed_sections": [],
      "toc_visible": true
    },
    "kernelspec": {
      "name": "python3",
      "display_name": "Python 3"
    },
    "language_info": {
      "name": "python"
    }
  },
  "cells": [
    {
      "cell_type": "markdown",
      "source": [
        "# DESAFIO PETLOVE"
      ],
      "metadata": {
        "id": "Cl28xsEHpTGH"
      }
    },
    {
      "cell_type": "markdown",
      "source": [
        "Seu desafio é participar da equipe de Assinatura, serviço onde o dono do animal\n",
        "programa a entrega de um conjunto de itens dentro de um período customizado,\n",
        "recebendo descontos e brindes exclusivos para assinantes."
      ],
      "metadata": {
        "id": "QYEtlaRRJzQv"
      }
    },
    {
      "cell_type": "markdown",
      "source": [
        "## CARREGAR PACOTES E IMPORTAR DADOS"
      ],
      "metadata": {
        "id": "qMDkfgC9LibL"
      }
    },
    {
      "cell_type": "code",
      "execution_count": null,
      "metadata": {
        "id": "CVZTdi2V0lnp"
      },
      "outputs": [],
      "source": [
        "# Carregar pacotes\n",
        "import os\n",
        "import pandas as pd\n",
        "import numpy as np\n",
        "import matplotlib.pyplot as plt\n",
        "import seaborn as sns\n",
        "import warnings\n",
        "warnings.filterwarnings('ignore')\n",
        "\n"
      ]
    },
    {
      "cell_type": "code",
      "source": [
        "# Importando os dados \n",
        "dados= pd.read_csv(\"/data-test-analytics.csv\")"
      ],
      "metadata": {
        "id": "NjKlTRX80uQN"
      },
      "execution_count": null,
      "outputs": []
    },
    {
      "cell_type": "code",
      "source": [
        "# Informações gerais dos dados\n",
        "dados.info()"
      ],
      "metadata": {
        "colab": {
          "base_uri": "https://localhost:8080/"
        },
        "id": "Sncbk6xTL4t1",
        "outputId": "74a84f5b-fde1-4092-8b5a-4603ae1f5558"
      },
      "execution_count": null,
      "outputs": [
        {
          "output_type": "stream",
          "name": "stdout",
          "text": [
            "<class 'pandas.core.frame.DataFrame'>\n",
            "RangeIndex: 10000 entries, 0 to 9999\n",
            "Data columns (total 20 columns):\n",
            " #   Column              Non-Null Count  Dtype  \n",
            "---  ------              --------------  -----  \n",
            " 0   id                  10000 non-null  object \n",
            " 1   created_at          10000 non-null  object \n",
            " 2   updated_at          10000 non-null  object \n",
            " 3   deleted_at          505 non-null    object \n",
            " 4   name_hash           10000 non-null  object \n",
            " 5   email_hash          10000 non-null  object \n",
            " 6   address_hash        10000 non-null  object \n",
            " 7   birth_date          10000 non-null  object \n",
            " 8   status              10000 non-null  object \n",
            " 9   version             10000 non-null  object \n",
            " 10  city                10000 non-null  object \n",
            " 11  state               10000 non-null  object \n",
            " 12  neighborhood        10000 non-null  object \n",
            " 13  last_date_purchase  10000 non-null  object \n",
            " 14  average_ticket      10000 non-null  float64\n",
            " 15  items_quantity      10000 non-null  int64  \n",
            " 16  all_revenue         10000 non-null  float64\n",
            " 17  all_orders          10000 non-null  int64  \n",
            " 18  recency             10000 non-null  int64  \n",
            " 19  marketing_source    10000 non-null  object \n",
            "dtypes: float64(2), int64(3), object(15)\n",
            "memory usage: 1.5+ MB\n"
          ]
        }
      ]
    },
    {
      "cell_type": "code",
      "source": [
        "# Visualizar as cinco primeiras linhas\n",
        "dados.head()"
      ],
      "metadata": {
        "colab": {
          "base_uri": "https://localhost:8080/",
          "height": 513
        },
        "id": "dVDMj0Ug0uTF",
        "outputId": "8e59e330-de0b-40cd-b819-82f78306db80"
      },
      "execution_count": null,
      "outputs": [
        {
          "output_type": "execute_result",
          "data": {
            "text/html": [
              "\n",
              "  <div id=\"df-bb7dfab3-6e0f-4921-adfa-88e7aa669390\">\n",
              "    <div class=\"colab-df-container\">\n",
              "      <div>\n",
              "<style scoped>\n",
              "    .dataframe tbody tr th:only-of-type {\n",
              "        vertical-align: middle;\n",
              "    }\n",
              "\n",
              "    .dataframe tbody tr th {\n",
              "        vertical-align: top;\n",
              "    }\n",
              "\n",
              "    .dataframe thead th {\n",
              "        text-align: right;\n",
              "    }\n",
              "</style>\n",
              "<table border=\"1\" class=\"dataframe\">\n",
              "  <thead>\n",
              "    <tr style=\"text-align: right;\">\n",
              "      <th></th>\n",
              "      <th>id</th>\n",
              "      <th>created_at</th>\n",
              "      <th>updated_at</th>\n",
              "      <th>deleted_at</th>\n",
              "      <th>name_hash</th>\n",
              "      <th>email_hash</th>\n",
              "      <th>address_hash</th>\n",
              "      <th>birth_date</th>\n",
              "      <th>status</th>\n",
              "      <th>version</th>\n",
              "      <th>city</th>\n",
              "      <th>state</th>\n",
              "      <th>neighborhood</th>\n",
              "      <th>last_date_purchase</th>\n",
              "      <th>average_ticket</th>\n",
              "      <th>items_quantity</th>\n",
              "      <th>all_revenue</th>\n",
              "      <th>all_orders</th>\n",
              "      <th>recency</th>\n",
              "      <th>marketing_source</th>\n",
              "    </tr>\n",
              "  </thead>\n",
              "  <tbody>\n",
              "    <tr>\n",
              "      <th>0</th>\n",
              "      <td>8bf7960e-3b93-468b-856e-6c6c5b56f52b</td>\n",
              "      <td>08/15/17 07:05 AM</td>\n",
              "      <td>01/14/21 11:23 AM</td>\n",
              "      <td>NaN</td>\n",
              "      <td>312d206168a318614897e8ccac43bff9</td>\n",
              "      <td>83eb3aed9a44377df80ce876dce92c9a</td>\n",
              "      <td>8b4bfaa0cbc41a16f46da15ddcd6a907</td>\n",
              "      <td>07/10/74 12:00 AM</td>\n",
              "      <td>active</td>\n",
              "      <td>2.31.7</td>\n",
              "      <td>Peixoto da Praia</td>\n",
              "      <td>AM</td>\n",
              "      <td>Aparecida 7ª Seção</td>\n",
              "      <td>01/14/21 11:23 AM</td>\n",
              "      <td>151.142942</td>\n",
              "      <td>10</td>\n",
              "      <td>906.857651</td>\n",
              "      <td>6</td>\n",
              "      <td>35</td>\n",
              "      <td>crm</td>\n",
              "    </tr>\n",
              "    <tr>\n",
              "      <th>1</th>\n",
              "      <td>a39535b5-4647-4680-b4f6-3aed57c1f1ff</td>\n",
              "      <td>12/31/19 09:53 PM</td>\n",
              "      <td>01/08/21 11:23 AM</td>\n",
              "      <td>NaN</td>\n",
              "      <td>de448fcb47d0d6a873b2eef52b5ee595</td>\n",
              "      <td>72678bb35e2ac84ed373e81dd9dca28c</td>\n",
              "      <td>22f1cfa1847f38da3f3cb114dd2b9247</td>\n",
              "      <td>07/06/40 12:00 AM</td>\n",
              "      <td>paused</td>\n",
              "      <td>3.30.12</td>\n",
              "      <td>Fernandes</td>\n",
              "      <td>RR</td>\n",
              "      <td>Santa Isabel</td>\n",
              "      <td>01/08/21 11:23 AM</td>\n",
              "      <td>236.991790</td>\n",
              "      <td>4</td>\n",
              "      <td>236.991790</td>\n",
              "      <td>1</td>\n",
              "      <td>41</td>\n",
              "      <td>organic_search</td>\n",
              "    </tr>\n",
              "    <tr>\n",
              "      <th>2</th>\n",
              "      <td>dc067cd2-c021-42bd-8c0e-beb267280e66</td>\n",
              "      <td>03/07/19 11:46 PM</td>\n",
              "      <td>01/07/21 11:23 AM</td>\n",
              "      <td>NaN</td>\n",
              "      <td>cb09e447ddc38283373d56bb46498e6a</td>\n",
              "      <td>668f4ee9add29c7bd02c485f1b7509e3</td>\n",
              "      <td>6cb47446a086ee6483b3eb954f11467a</td>\n",
              "      <td>03/18/63 12:00 AM</td>\n",
              "      <td>active</td>\n",
              "      <td>3.28.9</td>\n",
              "      <td>Lopes</td>\n",
              "      <td>RR</td>\n",
              "      <td>Estrela</td>\n",
              "      <td>01/07/21 11:23 AM</td>\n",
              "      <td>211.955597</td>\n",
              "      <td>13</td>\n",
              "      <td>2331.511572</td>\n",
              "      <td>11</td>\n",
              "      <td>42</td>\n",
              "      <td>organic_search</td>\n",
              "    </tr>\n",
              "    <tr>\n",
              "      <th>3</th>\n",
              "      <td>b5e4caeb-3a9b-49ed-aa33-5acd06b162c1</td>\n",
              "      <td>07/21/18 10:17 AM</td>\n",
              "      <td>01/10/21 11:23 AM</td>\n",
              "      <td>NaN</td>\n",
              "      <td>52593437a405b11b3557170680ef80c8</td>\n",
              "      <td>d3fb45188d95c8d7cc49da5b4f727c86</td>\n",
              "      <td>0a6f0c54db1e6f19347f96b50f8092a4</td>\n",
              "      <td>11/21/80 12:00 AM</td>\n",
              "      <td>active</td>\n",
              "      <td>3.34.3</td>\n",
              "      <td>Campos do Campo</td>\n",
              "      <td>PE</td>\n",
              "      <td>Confisco</td>\n",
              "      <td>01/10/21 11:23 AM</td>\n",
              "      <td>204.113227</td>\n",
              "      <td>8</td>\n",
              "      <td>1224.679359</td>\n",
              "      <td>6</td>\n",
              "      <td>39</td>\n",
              "      <td>organic_search</td>\n",
              "    </tr>\n",
              "    <tr>\n",
              "      <th>4</th>\n",
              "      <td>d4ff61fc-f008-4e19-b8ae-bd70cfa3ae27</td>\n",
              "      <td>06/08/18 12:09 PM</td>\n",
              "      <td>01/18/21 11:23 AM</td>\n",
              "      <td>NaN</td>\n",
              "      <td>dbda4b778a966c21904238ed2d2005db</td>\n",
              "      <td>a0f76bc49b4c43327b536da6e1a1465e</td>\n",
              "      <td>143b9f169b4fa1692f6d79b5682169b5</td>\n",
              "      <td>07/07/59 12:00 AM</td>\n",
              "      <td>active</td>\n",
              "      <td>3.19.8</td>\n",
              "      <td>das Neves</td>\n",
              "      <td>RJ</td>\n",
              "      <td>Vila Suzana Segunda Seção</td>\n",
              "      <td>01/18/21 11:23 AM</td>\n",
              "      <td>252.940997</td>\n",
              "      <td>9</td>\n",
              "      <td>2023.527980</td>\n",
              "      <td>8</td>\n",
              "      <td>31</td>\n",
              "      <td>crm</td>\n",
              "    </tr>\n",
              "  </tbody>\n",
              "</table>\n",
              "</div>\n",
              "      <button class=\"colab-df-convert\" onclick=\"convertToInteractive('df-bb7dfab3-6e0f-4921-adfa-88e7aa669390')\"\n",
              "              title=\"Convert this dataframe to an interactive table.\"\n",
              "              style=\"display:none;\">\n",
              "        \n",
              "  <svg xmlns=\"http://www.w3.org/2000/svg\" height=\"24px\"viewBox=\"0 0 24 24\"\n",
              "       width=\"24px\">\n",
              "    <path d=\"M0 0h24v24H0V0z\" fill=\"none\"/>\n",
              "    <path d=\"M18.56 5.44l.94 2.06.94-2.06 2.06-.94-2.06-.94-.94-2.06-.94 2.06-2.06.94zm-11 1L8.5 8.5l.94-2.06 2.06-.94-2.06-.94L8.5 2.5l-.94 2.06-2.06.94zm10 10l.94 2.06.94-2.06 2.06-.94-2.06-.94-.94-2.06-.94 2.06-2.06.94z\"/><path d=\"M17.41 7.96l-1.37-1.37c-.4-.4-.92-.59-1.43-.59-.52 0-1.04.2-1.43.59L10.3 9.45l-7.72 7.72c-.78.78-.78 2.05 0 2.83L4 21.41c.39.39.9.59 1.41.59.51 0 1.02-.2 1.41-.59l7.78-7.78 2.81-2.81c.8-.78.8-2.07 0-2.86zM5.41 20L4 18.59l7.72-7.72 1.47 1.35L5.41 20z\"/>\n",
              "  </svg>\n",
              "      </button>\n",
              "      \n",
              "  <style>\n",
              "    .colab-df-container {\n",
              "      display:flex;\n",
              "      flex-wrap:wrap;\n",
              "      gap: 12px;\n",
              "    }\n",
              "\n",
              "    .colab-df-convert {\n",
              "      background-color: #E8F0FE;\n",
              "      border: none;\n",
              "      border-radius: 50%;\n",
              "      cursor: pointer;\n",
              "      display: none;\n",
              "      fill: #1967D2;\n",
              "      height: 32px;\n",
              "      padding: 0 0 0 0;\n",
              "      width: 32px;\n",
              "    }\n",
              "\n",
              "    .colab-df-convert:hover {\n",
              "      background-color: #E2EBFA;\n",
              "      box-shadow: 0px 1px 2px rgba(60, 64, 67, 0.3), 0px 1px 3px 1px rgba(60, 64, 67, 0.15);\n",
              "      fill: #174EA6;\n",
              "    }\n",
              "\n",
              "    [theme=dark] .colab-df-convert {\n",
              "      background-color: #3B4455;\n",
              "      fill: #D2E3FC;\n",
              "    }\n",
              "\n",
              "    [theme=dark] .colab-df-convert:hover {\n",
              "      background-color: #434B5C;\n",
              "      box-shadow: 0px 1px 3px 1px rgba(0, 0, 0, 0.15);\n",
              "      filter: drop-shadow(0px 1px 2px rgba(0, 0, 0, 0.3));\n",
              "      fill: #FFFFFF;\n",
              "    }\n",
              "  </style>\n",
              "\n",
              "      <script>\n",
              "        const buttonEl =\n",
              "          document.querySelector('#df-bb7dfab3-6e0f-4921-adfa-88e7aa669390 button.colab-df-convert');\n",
              "        buttonEl.style.display =\n",
              "          google.colab.kernel.accessAllowed ? 'block' : 'none';\n",
              "\n",
              "        async function convertToInteractive(key) {\n",
              "          const element = document.querySelector('#df-bb7dfab3-6e0f-4921-adfa-88e7aa669390');\n",
              "          const dataTable =\n",
              "            await google.colab.kernel.invokeFunction('convertToInteractive',\n",
              "                                                     [key], {});\n",
              "          if (!dataTable) return;\n",
              "\n",
              "          const docLinkHtml = 'Like what you see? Visit the ' +\n",
              "            '<a target=\"_blank\" href=https://colab.research.google.com/notebooks/data_table.ipynb>data table notebook</a>'\n",
              "            + ' to learn more about interactive tables.';\n",
              "          element.innerHTML = '';\n",
              "          dataTable['output_type'] = 'display_data';\n",
              "          await google.colab.output.renderOutput(dataTable, element);\n",
              "          const docLink = document.createElement('div');\n",
              "          docLink.innerHTML = docLinkHtml;\n",
              "          element.appendChild(docLink);\n",
              "        }\n",
              "      </script>\n",
              "    </div>\n",
              "  </div>\n",
              "  "
            ],
            "text/plain": [
              "                                     id  ... marketing_source\n",
              "0  8bf7960e-3b93-468b-856e-6c6c5b56f52b  ...              crm\n",
              "1  a39535b5-4647-4680-b4f6-3aed57c1f1ff  ...   organic_search\n",
              "2  dc067cd2-c021-42bd-8c0e-beb267280e66  ...   organic_search\n",
              "3  b5e4caeb-3a9b-49ed-aa33-5acd06b162c1  ...   organic_search\n",
              "4  d4ff61fc-f008-4e19-b8ae-bd70cfa3ae27  ...              crm\n",
              "\n",
              "[5 rows x 20 columns]"
            ]
          },
          "metadata": {},
          "execution_count": 263
        }
      ]
    },
    {
      "cell_type": "code",
      "source": [
        "# Visualizar as cinco últimas linhas\n",
        "dados.tail()"
      ],
      "metadata": {
        "colab": {
          "base_uri": "https://localhost:8080/",
          "height": 531
        },
        "id": "UFl2F1NZNPFH",
        "outputId": "6c18057d-ec34-4291-9191-29ecb1601278"
      },
      "execution_count": null,
      "outputs": [
        {
          "output_type": "execute_result",
          "data": {
            "text/html": [
              "\n",
              "  <div id=\"df-8ecc265c-3c67-4b1a-9d1f-46268e4fc28a\">\n",
              "    <div class=\"colab-df-container\">\n",
              "      <div>\n",
              "<style scoped>\n",
              "    .dataframe tbody tr th:only-of-type {\n",
              "        vertical-align: middle;\n",
              "    }\n",
              "\n",
              "    .dataframe tbody tr th {\n",
              "        vertical-align: top;\n",
              "    }\n",
              "\n",
              "    .dataframe thead th {\n",
              "        text-align: right;\n",
              "    }\n",
              "</style>\n",
              "<table border=\"1\" class=\"dataframe\">\n",
              "  <thead>\n",
              "    <tr style=\"text-align: right;\">\n",
              "      <th></th>\n",
              "      <th>id</th>\n",
              "      <th>created_at</th>\n",
              "      <th>updated_at</th>\n",
              "      <th>deleted_at</th>\n",
              "      <th>name_hash</th>\n",
              "      <th>email_hash</th>\n",
              "      <th>address_hash</th>\n",
              "      <th>birth_date</th>\n",
              "      <th>status</th>\n",
              "      <th>version</th>\n",
              "      <th>city</th>\n",
              "      <th>state</th>\n",
              "      <th>neighborhood</th>\n",
              "      <th>last_date_purchase</th>\n",
              "      <th>average_ticket</th>\n",
              "      <th>items_quantity</th>\n",
              "      <th>all_revenue</th>\n",
              "      <th>all_orders</th>\n",
              "      <th>recency</th>\n",
              "      <th>marketing_source</th>\n",
              "    </tr>\n",
              "  </thead>\n",
              "  <tbody>\n",
              "    <tr>\n",
              "      <th>9995</th>\n",
              "      <td>90c9fd5f-80d2-4f59-9970-6b3e6dac5f57</td>\n",
              "      <td>09/12/17 12:35 AM</td>\n",
              "      <td>01/31/21 11:23 AM</td>\n",
              "      <td>NaN</td>\n",
              "      <td>eb89d44181a7873ba67f24ff511fc57f</td>\n",
              "      <td>befbd1b02e0a4d52a913adbd093789ab</td>\n",
              "      <td>be93ff9948bf23bd373599f3d5d3798c</td>\n",
              "      <td>09/12/61 12:00 AM</td>\n",
              "      <td>active</td>\n",
              "      <td>4.30.12</td>\n",
              "      <td>Souza</td>\n",
              "      <td>RN</td>\n",
              "      <td>Concórdia</td>\n",
              "      <td>01/31/21 11:23 AM</td>\n",
              "      <td>215.079785</td>\n",
              "      <td>5</td>\n",
              "      <td>1075.398927</td>\n",
              "      <td>5</td>\n",
              "      <td>18</td>\n",
              "      <td>paid_search</td>\n",
              "    </tr>\n",
              "    <tr>\n",
              "      <th>9996</th>\n",
              "      <td>0edb7aec-8816-4904-bcd7-cbe141391441</td>\n",
              "      <td>04/20/18 07:43 AM</td>\n",
              "      <td>01/18/21 11:23 AM</td>\n",
              "      <td>NaN</td>\n",
              "      <td>8d5dc7dd1225fa9746f4509c8cadeedb</td>\n",
              "      <td>d1beba53e18c097d0bb2a4a91de9ad09</td>\n",
              "      <td>1aafbc7d76201a320a5f97dafd891e95</td>\n",
              "      <td>09/15/69 12:00 AM</td>\n",
              "      <td>active</td>\n",
              "      <td>4.28.13</td>\n",
              "      <td>Silveira</td>\n",
              "      <td>AL</td>\n",
              "      <td>São Francisco</td>\n",
              "      <td>01/18/21 11:23 AM</td>\n",
              "      <td>254.525826</td>\n",
              "      <td>10</td>\n",
              "      <td>2290.732434</td>\n",
              "      <td>9</td>\n",
              "      <td>31</td>\n",
              "      <td>organic_search</td>\n",
              "    </tr>\n",
              "    <tr>\n",
              "      <th>9997</th>\n",
              "      <td>30130652-d616-4b40-adbb-189e3351016c</td>\n",
              "      <td>08/14/17 12:28 AM</td>\n",
              "      <td>01/03/21 11:23 AM</td>\n",
              "      <td>NaN</td>\n",
              "      <td>9517c44d34d9965d25e77487a510b696</td>\n",
              "      <td>baffbfb45790c0bca921d418b2ccc987</td>\n",
              "      <td>0cad001abedb688cc64a819d04a3bc71</td>\n",
              "      <td>01/14/60 12:00 AM</td>\n",
              "      <td>active</td>\n",
              "      <td>3.18.11</td>\n",
              "      <td>Martins</td>\n",
              "      <td>SC</td>\n",
              "      <td>Frei Leopoldo</td>\n",
              "      <td>01/03/21 11:23 AM</td>\n",
              "      <td>208.741902</td>\n",
              "      <td>8</td>\n",
              "      <td>1252.451411</td>\n",
              "      <td>6</td>\n",
              "      <td>46</td>\n",
              "      <td>paid_search</td>\n",
              "    </tr>\n",
              "    <tr>\n",
              "      <th>9998</th>\n",
              "      <td>37b52952-afdd-425a-9149-4012ea48ac87</td>\n",
              "      <td>01/19/17 07:19 PM</td>\n",
              "      <td>01/09/21 11:23 AM</td>\n",
              "      <td>NaN</td>\n",
              "      <td>c800df6e2b9449cb5d6a812563566887</td>\n",
              "      <td>0373a1cdff0fca0b4c4111401051548c</td>\n",
              "      <td>ffd915817fc2bd67575436b7f8e57bde</td>\n",
              "      <td>08/06/57 12:00 AM</td>\n",
              "      <td>active</td>\n",
              "      <td>5.51.6</td>\n",
              "      <td>Gomes das Flores</td>\n",
              "      <td>PA</td>\n",
              "      <td>Cdi Jatoba</td>\n",
              "      <td>01/09/21 11:23 AM</td>\n",
              "      <td>211.174796</td>\n",
              "      <td>9</td>\n",
              "      <td>0.000000</td>\n",
              "      <td>0</td>\n",
              "      <td>40</td>\n",
              "      <td>direct</td>\n",
              "    </tr>\n",
              "    <tr>\n",
              "      <th>9999</th>\n",
              "      <td>97518d4a-88a1-49ff-a5cc-ad1e8967afdc</td>\n",
              "      <td>02/18/17 03:15 AM</td>\n",
              "      <td>01/16/21 11:23 AM</td>\n",
              "      <td>NaN</td>\n",
              "      <td>3d0a1b90c39270c39250680c4b26d082</td>\n",
              "      <td>92053227878d63b2fa05978c0a9bf9ae</td>\n",
              "      <td>89350fd7d01ec1a639fed0f193208cd9</td>\n",
              "      <td>09/14/43 12:00 AM</td>\n",
              "      <td>active</td>\n",
              "      <td>4.36.11</td>\n",
              "      <td>Alves</td>\n",
              "      <td>MT</td>\n",
              "      <td>Vila Mangueiras</td>\n",
              "      <td>01/16/21 11:23 AM</td>\n",
              "      <td>259.786807</td>\n",
              "      <td>7</td>\n",
              "      <td>2857.654879</td>\n",
              "      <td>11</td>\n",
              "      <td>33</td>\n",
              "      <td>direct</td>\n",
              "    </tr>\n",
              "  </tbody>\n",
              "</table>\n",
              "</div>\n",
              "      <button class=\"colab-df-convert\" onclick=\"convertToInteractive('df-8ecc265c-3c67-4b1a-9d1f-46268e4fc28a')\"\n",
              "              title=\"Convert this dataframe to an interactive table.\"\n",
              "              style=\"display:none;\">\n",
              "        \n",
              "  <svg xmlns=\"http://www.w3.org/2000/svg\" height=\"24px\"viewBox=\"0 0 24 24\"\n",
              "       width=\"24px\">\n",
              "    <path d=\"M0 0h24v24H0V0z\" fill=\"none\"/>\n",
              "    <path d=\"M18.56 5.44l.94 2.06.94-2.06 2.06-.94-2.06-.94-.94-2.06-.94 2.06-2.06.94zm-11 1L8.5 8.5l.94-2.06 2.06-.94-2.06-.94L8.5 2.5l-.94 2.06-2.06.94zm10 10l.94 2.06.94-2.06 2.06-.94-2.06-.94-.94-2.06-.94 2.06-2.06.94z\"/><path d=\"M17.41 7.96l-1.37-1.37c-.4-.4-.92-.59-1.43-.59-.52 0-1.04.2-1.43.59L10.3 9.45l-7.72 7.72c-.78.78-.78 2.05 0 2.83L4 21.41c.39.39.9.59 1.41.59.51 0 1.02-.2 1.41-.59l7.78-7.78 2.81-2.81c.8-.78.8-2.07 0-2.86zM5.41 20L4 18.59l7.72-7.72 1.47 1.35L5.41 20z\"/>\n",
              "  </svg>\n",
              "      </button>\n",
              "      \n",
              "  <style>\n",
              "    .colab-df-container {\n",
              "      display:flex;\n",
              "      flex-wrap:wrap;\n",
              "      gap: 12px;\n",
              "    }\n",
              "\n",
              "    .colab-df-convert {\n",
              "      background-color: #E8F0FE;\n",
              "      border: none;\n",
              "      border-radius: 50%;\n",
              "      cursor: pointer;\n",
              "      display: none;\n",
              "      fill: #1967D2;\n",
              "      height: 32px;\n",
              "      padding: 0 0 0 0;\n",
              "      width: 32px;\n",
              "    }\n",
              "\n",
              "    .colab-df-convert:hover {\n",
              "      background-color: #E2EBFA;\n",
              "      box-shadow: 0px 1px 2px rgba(60, 64, 67, 0.3), 0px 1px 3px 1px rgba(60, 64, 67, 0.15);\n",
              "      fill: #174EA6;\n",
              "    }\n",
              "\n",
              "    [theme=dark] .colab-df-convert {\n",
              "      background-color: #3B4455;\n",
              "      fill: #D2E3FC;\n",
              "    }\n",
              "\n",
              "    [theme=dark] .colab-df-convert:hover {\n",
              "      background-color: #434B5C;\n",
              "      box-shadow: 0px 1px 3px 1px rgba(0, 0, 0, 0.15);\n",
              "      filter: drop-shadow(0px 1px 2px rgba(0, 0, 0, 0.3));\n",
              "      fill: #FFFFFF;\n",
              "    }\n",
              "  </style>\n",
              "\n",
              "      <script>\n",
              "        const buttonEl =\n",
              "          document.querySelector('#df-8ecc265c-3c67-4b1a-9d1f-46268e4fc28a button.colab-df-convert');\n",
              "        buttonEl.style.display =\n",
              "          google.colab.kernel.accessAllowed ? 'block' : 'none';\n",
              "\n",
              "        async function convertToInteractive(key) {\n",
              "          const element = document.querySelector('#df-8ecc265c-3c67-4b1a-9d1f-46268e4fc28a');\n",
              "          const dataTable =\n",
              "            await google.colab.kernel.invokeFunction('convertToInteractive',\n",
              "                                                     [key], {});\n",
              "          if (!dataTable) return;\n",
              "\n",
              "          const docLinkHtml = 'Like what you see? Visit the ' +\n",
              "            '<a target=\"_blank\" href=https://colab.research.google.com/notebooks/data_table.ipynb>data table notebook</a>'\n",
              "            + ' to learn more about interactive tables.';\n",
              "          element.innerHTML = '';\n",
              "          dataTable['output_type'] = 'display_data';\n",
              "          await google.colab.output.renderOutput(dataTable, element);\n",
              "          const docLink = document.createElement('div');\n",
              "          docLink.innerHTML = docLinkHtml;\n",
              "          element.appendChild(docLink);\n",
              "        }\n",
              "      </script>\n",
              "    </div>\n",
              "  </div>\n",
              "  "
            ],
            "text/plain": [
              "                                        id  ... marketing_source\n",
              "9995  90c9fd5f-80d2-4f59-9970-6b3e6dac5f57  ...      paid_search\n",
              "9996  0edb7aec-8816-4904-bcd7-cbe141391441  ...   organic_search\n",
              "9997  30130652-d616-4b40-adbb-189e3351016c  ...      paid_search\n",
              "9998  37b52952-afdd-425a-9149-4012ea48ac87  ...           direct\n",
              "9999  97518d4a-88a1-49ff-a5cc-ad1e8967afdc  ...           direct\n",
              "\n",
              "[5 rows x 20 columns]"
            ]
          },
          "metadata": {},
          "execution_count": 264
        }
      ]
    },
    {
      "cell_type": "markdown",
      "source": [
        "## ANÁLISE EXPLORATÓRIA DOS DADOS\n"
      ],
      "metadata": {
        "id": "3XUdcMTMZGkt"
      }
    },
    {
      "cell_type": "code",
      "source": [
        "# Churn\n",
        "round(len(dados[dados[\"status\"]==\"canceled\"]) / len(dados[dados[\"status\"]==\"active\"]) *100,2)"
      ],
      "metadata": {
        "colab": {
          "base_uri": "https://localhost:8080/"
        },
        "id": "YwLd1KtZC1zf",
        "outputId": "586f3888-470d-44bf-cfae-08d8fa945052"
      },
      "execution_count": null,
      "outputs": [
        {
          "output_type": "execute_result",
          "data": {
            "text/plain": [
              "5.92"
            ]
          },
          "metadata": {},
          "execution_count": 265
        }
      ]
    },
    {
      "cell_type": "markdown",
      "source": [
        "### 1.STATUS DA ASSINATURA\n"
      ],
      "metadata": {
        "id": "Z0SUHSH57vRc"
      }
    },
    {
      "cell_type": "code",
      "source": [
        "# Gráfico de status da assinatura\n",
        "plt.figure(figsize=(12,5))\n",
        "total = float(len(dados[\"status\"]))\n",
        "cp=sns.countplot(dados[\"status\"])\n",
        "for p in cp.patches:\n",
        "    percentage = '{:.1f}%'.format(100 * p.get_height()/total)\n",
        "    x = p.get_x() + p.get_width() /2\n",
        "    y = p.get_height()\n",
        "    cp.annotate(percentage, (x, y),size=14,ha=\"center\",va=\"center\")\n",
        "plt.title(\"Status da assinatura\")\n",
        "plt.xlabel(\"Status\")\n",
        "plt.savefig('plot1.png', format='png')\n",
        "plt.show()\n"
      ],
      "metadata": {
        "colab": {
          "base_uri": "https://localhost:8080/",
          "height": 354
        },
        "id": "cNzUf98NSje9",
        "outputId": "58604e09-9e9f-49ef-edff-c94bf9e21962"
      },
      "execution_count": null,
      "outputs": [
        {
          "output_type": "display_data",
          "data": {
            "image/png": "[encoded data removed]",
            "text/plain": [
              "<Figure size 864x360 with 1 Axes>"
            ]
          },
          "metadata": {}
        }
      ]
    },
    {
      "cell_type": "markdown",
      "source": [
        "#### Tíquete Médio"
      ],
      "metadata": {
        "id": "vuXIAQ1S9riu"
      }
    },
    {
      "cell_type": "code",
      "source": [
        "# Estatística descritiva tiquete médio por status de assinatura\n",
        "dados[[\"average_ticket\",\"status\"]].groupby(\"status\").describe()"
      ],
      "metadata": {
        "colab": {
          "base_uri": "https://localhost:8080/",
          "height": 206
        },
        "id": "DuBJHn4f9K_N",
        "outputId": "3e8f7ed9-644b-4ac3-9d0c-13a678a7cb36"
      },
      "execution_count": null,
      "outputs": [
        {
          "output_type": "execute_result",
          "data": {
            "text/html": [
              "\n",
              "  <div id=\"df-44401fbe-dd2f-496e-876a-c5aff94fba48\">\n",
              "    <div class=\"colab-df-container\">\n",
              "      <div>\n",
              "<style scoped>\n",
              "    .dataframe tbody tr th:only-of-type {\n",
              "        vertical-align: middle;\n",
              "    }\n",
              "\n",
              "    .dataframe tbody tr th {\n",
              "        vertical-align: top;\n",
              "    }\n",
              "\n",
              "    .dataframe thead tr th {\n",
              "        text-align: left;\n",
              "    }\n",
              "\n",
              "    .dataframe thead tr:last-of-type th {\n",
              "        text-align: right;\n",
              "    }\n",
              "</style>\n",
              "<table border=\"1\" class=\"dataframe\">\n",
              "  <thead>\n",
              "    <tr>\n",
              "      <th></th>\n",
              "      <th colspan=\"8\" halign=\"left\">average_ticket</th>\n",
              "    </tr>\n",
              "    <tr>\n",
              "      <th></th>\n",
              "      <th>count</th>\n",
              "      <th>mean</th>\n",
              "      <th>std</th>\n",
              "      <th>min</th>\n",
              "      <th>25%</th>\n",
              "      <th>50%</th>\n",
              "      <th>75%</th>\n",
              "      <th>max</th>\n",
              "    </tr>\n",
              "    <tr>\n",
              "      <th>status</th>\n",
              "      <th></th>\n",
              "      <th></th>\n",
              "      <th></th>\n",
              "      <th></th>\n",
              "      <th></th>\n",
              "      <th></th>\n",
              "      <th></th>\n",
              "      <th></th>\n",
              "    </tr>\n",
              "  </thead>\n",
              "  <tbody>\n",
              "    <tr>\n",
              "      <th>active</th>\n",
              "      <td>8524.0</td>\n",
              "      <td>216.732335</td>\n",
              "      <td>22.788866</td>\n",
              "      <td>131.378672</td>\n",
              "      <td>201.178298</td>\n",
              "      <td>216.700538</td>\n",
              "      <td>232.444647</td>\n",
              "      <td>303.386848</td>\n",
              "    </tr>\n",
              "    <tr>\n",
              "      <th>canceled</th>\n",
              "      <td>505.0</td>\n",
              "      <td>217.438501</td>\n",
              "      <td>22.503191</td>\n",
              "      <td>151.804161</td>\n",
              "      <td>201.934997</td>\n",
              "      <td>217.998175</td>\n",
              "      <td>232.135380</td>\n",
              "      <td>278.300436</td>\n",
              "    </tr>\n",
              "    <tr>\n",
              "      <th>paused</th>\n",
              "      <td>971.0</td>\n",
              "      <td>218.037307</td>\n",
              "      <td>22.595849</td>\n",
              "      <td>147.836575</td>\n",
              "      <td>203.315390</td>\n",
              "      <td>218.410347</td>\n",
              "      <td>232.779745</td>\n",
              "      <td>291.962908</td>\n",
              "    </tr>\n",
              "  </tbody>\n",
              "</table>\n",
              "</div>\n",
              "      <button class=\"colab-df-convert\" onclick=\"convertToInteractive('df-44401fbe-dd2f-496e-876a-c5aff94fba48')\"\n",
              "              title=\"Convert this dataframe to an interactive table.\"\n",
              "              style=\"display:none;\">\n",
              "        \n",
              "  <svg xmlns=\"http://www.w3.org/2000/svg\" height=\"24px\"viewBox=\"0 0 24 24\"\n",
              "       width=\"24px\">\n",
              "    <path d=\"M0 0h24v24H0V0z\" fill=\"none\"/>\n",
              "    <path d=\"M18.56 5.44l.94 2.06.94-2.06 2.06-.94-2.06-.94-.94-2.06-.94 2.06-2.06.94zm-11 1L8.5 8.5l.94-2.06 2.06-.94-2.06-.94L8.5 2.5l-.94 2.06-2.06.94zm10 10l.94 2.06.94-2.06 2.06-.94-2.06-.94-.94-2.06-.94 2.06-2.06.94z\"/><path d=\"M17.41 7.96l-1.37-1.37c-.4-.4-.92-.59-1.43-.59-.52 0-1.04.2-1.43.59L10.3 9.45l-7.72 7.72c-.78.78-.78 2.05 0 2.83L4 21.41c.39.39.9.59 1.41.59.51 0 1.02-.2 1.41-.59l7.78-7.78 2.81-2.81c.8-.78.8-2.07 0-2.86zM5.41 20L4 18.59l7.72-7.72 1.47 1.35L5.41 20z\"/>\n",
              "  </svg>\n",
              "      </button>\n",
              "      \n",
              "  <style>\n",
              "    .colab-df-container {\n",
              "      display:flex;\n",
              "      flex-wrap:wrap;\n",
              "      gap: 12px;\n",
              "    }\n",
              "\n",
              "    .colab-df-convert {\n",
              "      background-color: #E8F0FE;\n",
              "      border: none;\n",
              "      border-radius: 50%;\n",
              "      cursor: pointer;\n",
              "      display: none;\n",
              "      fill: #1967D2;\n",
              "      height: 32px;\n",
              "      padding: 0 0 0 0;\n",
              "      width: 32px;\n",
              "    }\n",
              "\n",
              "    .colab-df-convert:hover {\n",
              "      background-color: #E2EBFA;\n",
              "      box-shadow: 0px 1px 2px rgba(60, 64, 67, 0.3), 0px 1px 3px 1px rgba(60, 64, 67, 0.15);\n",
              "      fill: #174EA6;\n",
              "    }\n",
              "\n",
              "    [theme=dark] .colab-df-convert {\n",
              "      background-color: #3B4455;\n",
              "      fill: #D2E3FC;\n",
              "    }\n",
              "\n",
              "    [theme=dark] .colab-df-convert:hover {\n",
              "      background-color: #434B5C;\n",
              "      box-shadow: 0px 1px 3px 1px rgba(0, 0, 0, 0.15);\n",
              "      filter: drop-shadow(0px 1px 2px rgba(0, 0, 0, 0.3));\n",
              "      fill: #FFFFFF;\n",
              "    }\n",
              "  </style>\n",
              "\n",
              "      <script>\n",
              "        const buttonEl =\n",
              "          document.querySelector('#df-44401fbe-dd2f-496e-876a-c5aff94fba48 button.colab-df-convert');\n",
              "        buttonEl.style.display =\n",
              "          google.colab.kernel.accessAllowed ? 'block' : 'none';\n",
              "\n",
              "        async function convertToInteractive(key) {\n",
              "          const element = document.querySelector('#df-44401fbe-dd2f-496e-876a-c5aff94fba48');\n",
              "          const dataTable =\n",
              "            await google.colab.kernel.invokeFunction('convertToInteractive',\n",
              "                                                     [key], {});\n",
              "          if (!dataTable) return;\n",
              "\n",
              "          const docLinkHtml = 'Like what you see? Visit the ' +\n",
              "            '<a target=\"_blank\" href=https://colab.research.google.com/notebooks/data_table.ipynb>data table notebook</a>'\n",
              "            + ' to learn more about interactive tables.';\n",
              "          element.innerHTML = '';\n",
              "          dataTable['output_type'] = 'display_data';\n",
              "          await google.colab.output.renderOutput(dataTable, element);\n",
              "          const docLink = document.createElement('div');\n",
              "          docLink.innerHTML = docLinkHtml;\n",
              "          element.appendChild(docLink);\n",
              "        }\n",
              "      </script>\n",
              "    </div>\n",
              "  </div>\n",
              "  "
            ],
            "text/plain": [
              "         average_ticket              ...                        \n",
              "                  count        mean  ...         75%         max\n",
              "status                               ...                        \n",
              "active           8524.0  216.732335  ...  232.444647  303.386848\n",
              "canceled          505.0  217.438501  ...  232.135380  278.300436\n",
              "paused            971.0  218.037307  ...  232.779745  291.962908\n",
              "\n",
              "[3 rows x 8 columns]"
            ]
          },
          "metadata": {},
          "execution_count": 267
        }
      ]
    },
    {
      "cell_type": "code",
      "source": [
        "# Gráfico do tíquete médio por status da assinatura\n",
        "plt.figure(figsize=(12,5))\n",
        "plt.style.use('ggplot')\n",
        "sns.boxplot(data=dados, x=\"status\", y=\"average_ticket\",showmeans=True,\n",
        "            meanprops={\"marker\":\"s\",\"markerfacecolor\":\"white\"})\n",
        "plt.title(\"Tiquete médio por Status da assinatura\")\n",
        "plt.ylabel(\"Tíquete médio\")\n",
        "plt.savefig(\"plot2.png\")\n",
        "plt.show()"
      ],
      "metadata": {
        "colab": {
          "base_uri": "https://localhost:8080/",
          "height": 354
        },
        "id": "aJxDO9syZFQy",
        "outputId": "92409904-8a58-42f2-fc54-7d38020854cd"
      },
      "execution_count": null,
      "outputs": [
        {
          "output_type": "display_data",
          "data": {
            "image/png": "[encoded data removed]",
            "text/plain": [
              "<Figure size 864x360 with 1 Axes>"
            ]
          },
          "metadata": {}
        }
      ]
    },
    {
      "cell_type": "markdown",
      "source": [
        "#### Média de Items na Assinatura"
      ],
      "metadata": {
        "id": "G-RleIkM9xZE"
      }
    },
    {
      "cell_type": "code",
      "source": [
        "# Estatística descritiva média de items por status de assinatura\n",
        "dados[[\"items_quantity\",\"status\"]].groupby(\"status\").describe()"
      ],
      "metadata": {
        "colab": {
          "base_uri": "https://localhost:8080/",
          "height": 206
        },
        "id": "N77t_WIH7ye2",
        "outputId": "f7f9ca4f-86de-409c-8766-b45ee9e4a841"
      },
      "execution_count": null,
      "outputs": [
        {
          "output_type": "execute_result",
          "data": {
            "text/html": [
              "\n",
              "  <div id=\"df-49cab2c8-d9b6-4d80-8845-d1d2e0594c1b\">\n",
              "    <div class=\"colab-df-container\">\n",
              "      <div>\n",
              "<style scoped>\n",
              "    .dataframe tbody tr th:only-of-type {\n",
              "        vertical-align: middle;\n",
              "    }\n",
              "\n",
              "    .dataframe tbody tr th {\n",
              "        vertical-align: top;\n",
              "    }\n",
              "\n",
              "    .dataframe thead tr th {\n",
              "        text-align: left;\n",
              "    }\n",
              "\n",
              "    .dataframe thead tr:last-of-type th {\n",
              "        text-align: right;\n",
              "    }\n",
              "</style>\n",
              "<table border=\"1\" class=\"dataframe\">\n",
              "  <thead>\n",
              "    <tr>\n",
              "      <th></th>\n",
              "      <th colspan=\"8\" halign=\"left\">items_quantity</th>\n",
              "    </tr>\n",
              "    <tr>\n",
              "      <th></th>\n",
              "      <th>count</th>\n",
              "      <th>mean</th>\n",
              "      <th>std</th>\n",
              "      <th>min</th>\n",
              "      <th>25%</th>\n",
              "      <th>50%</th>\n",
              "      <th>75%</th>\n",
              "      <th>max</th>\n",
              "    </tr>\n",
              "    <tr>\n",
              "      <th>status</th>\n",
              "      <th></th>\n",
              "      <th></th>\n",
              "      <th></th>\n",
              "      <th></th>\n",
              "      <th></th>\n",
              "      <th></th>\n",
              "      <th></th>\n",
              "      <th></th>\n",
              "    </tr>\n",
              "  </thead>\n",
              "  <tbody>\n",
              "    <tr>\n",
              "      <th>active</th>\n",
              "      <td>8524.0</td>\n",
              "      <td>8.477710</td>\n",
              "      <td>3.025504</td>\n",
              "      <td>1.0</td>\n",
              "      <td>6.0</td>\n",
              "      <td>8.0</td>\n",
              "      <td>11.0</td>\n",
              "      <td>19.0</td>\n",
              "    </tr>\n",
              "    <tr>\n",
              "      <th>canceled</th>\n",
              "      <td>505.0</td>\n",
              "      <td>8.647525</td>\n",
              "      <td>2.951748</td>\n",
              "      <td>1.0</td>\n",
              "      <td>7.0</td>\n",
              "      <td>9.0</td>\n",
              "      <td>11.0</td>\n",
              "      <td>18.0</td>\n",
              "    </tr>\n",
              "    <tr>\n",
              "      <th>paused</th>\n",
              "      <td>971.0</td>\n",
              "      <td>8.616890</td>\n",
              "      <td>3.066864</td>\n",
              "      <td>1.0</td>\n",
              "      <td>6.0</td>\n",
              "      <td>9.0</td>\n",
              "      <td>11.0</td>\n",
              "      <td>18.0</td>\n",
              "    </tr>\n",
              "  </tbody>\n",
              "</table>\n",
              "</div>\n",
              "      <button class=\"colab-df-convert\" onclick=\"convertToInteractive('df-49cab2c8-d9b6-4d80-8845-d1d2e0594c1b')\"\n",
              "              title=\"Convert this dataframe to an interactive table.\"\n",
              "              style=\"display:none;\">\n",
              "        \n",
              "  <svg xmlns=\"http://www.w3.org/2000/svg\" height=\"24px\"viewBox=\"0 0 24 24\"\n",
              "       width=\"24px\">\n",
              "    <path d=\"M0 0h24v24H0V0z\" fill=\"none\"/>\n",
              "    <path d=\"M18.56 5.44l.94 2.06.94-2.06 2.06-.94-2.06-.94-.94-2.06-.94 2.06-2.06.94zm-11 1L8.5 8.5l.94-2.06 2.06-.94-2.06-.94L8.5 2.5l-.94 2.06-2.06.94zm10 10l.94 2.06.94-2.06 2.06-.94-2.06-.94-.94-2.06-.94 2.06-2.06.94z\"/><path d=\"M17.41 7.96l-1.37-1.37c-.4-.4-.92-.59-1.43-.59-.52 0-1.04.2-1.43.59L10.3 9.45l-7.72 7.72c-.78.78-.78 2.05 0 2.83L4 21.41c.39.39.9.59 1.41.59.51 0 1.02-.2 1.41-.59l7.78-7.78 2.81-2.81c.8-.78.8-2.07 0-2.86zM5.41 20L4 18.59l7.72-7.72 1.47 1.35L5.41 20z\"/>\n",
              "  </svg>\n",
              "      </button>\n",
              "      \n",
              "  <style>\n",
              "    .colab-df-container {\n",
              "      display:flex;\n",
              "      flex-wrap:wrap;\n",
              "      gap: 12px;\n",
              "    }\n",
              "\n",
              "    .colab-df-convert {\n",
              "      background-color: #E8F0FE;\n",
              "      border: none;\n",
              "      border-radius: 50%;\n",
              "      cursor: pointer;\n",
              "      display: none;\n",
              "      fill: #1967D2;\n",
              "      height: 32px;\n",
              "      padding: 0 0 0 0;\n",
              "      width: 32px;\n",
              "    }\n",
              "\n",
              "    .colab-df-convert:hover {\n",
              "      background-color: #E2EBFA;\n",
              "      box-shadow: 0px 1px 2px rgba(60, 64, 67, 0.3), 0px 1px 3px 1px rgba(60, 64, 67, 0.15);\n",
              "      fill: #174EA6;\n",
              "    }\n",
              "\n",
              "    [theme=dark] .colab-df-convert {\n",
              "      background-color: #3B4455;\n",
              "      fill: #D2E3FC;\n",
              "    }\n",
              "\n",
              "    [theme=dark] .colab-df-convert:hover {\n",
              "      background-color: #434B5C;\n",
              "      box-shadow: 0px 1px 3px 1px rgba(0, 0, 0, 0.15);\n",
              "      filter: drop-shadow(0px 1px 2px rgba(0, 0, 0, 0.3));\n",
              "      fill: #FFFFFF;\n",
              "    }\n",
              "  </style>\n",
              "\n",
              "      <script>\n",
              "        const buttonEl =\n",
              "          document.querySelector('#df-49cab2c8-d9b6-4d80-8845-d1d2e0594c1b button.colab-df-convert');\n",
              "        buttonEl.style.display =\n",
              "          google.colab.kernel.accessAllowed ? 'block' : 'none';\n",
              "\n",
              "        async function convertToInteractive(key) {\n",
              "          const element = document.querySelector('#df-49cab2c8-d9b6-4d80-8845-d1d2e0594c1b');\n",
              "          const dataTable =\n",
              "            await google.colab.kernel.invokeFunction('convertToInteractive',\n",
              "                                                     [key], {});\n",
              "          if (!dataTable) return;\n",
              "\n",
              "          const docLinkHtml = 'Like what you see? Visit the ' +\n",
              "            '<a target=\"_blank\" href=https://colab.research.google.com/notebooks/data_table.ipynb>data table notebook</a>'\n",
              "            + ' to learn more about interactive tables.';\n",
              "          element.innerHTML = '';\n",
              "          dataTable['output_type'] = 'display_data';\n",
              "          await google.colab.output.renderOutput(dataTable, element);\n",
              "          const docLink = document.createElement('div');\n",
              "          docLink.innerHTML = docLinkHtml;\n",
              "          element.appendChild(docLink);\n",
              "        }\n",
              "      </script>\n",
              "    </div>\n",
              "  </div>\n",
              "  "
            ],
            "text/plain": [
              "         items_quantity                                               \n",
              "                  count      mean       std  min  25%  50%   75%   max\n",
              "status                                                                \n",
              "active           8524.0  8.477710  3.025504  1.0  6.0  8.0  11.0  19.0\n",
              "canceled          505.0  8.647525  2.951748  1.0  7.0  9.0  11.0  18.0\n",
              "paused            971.0  8.616890  3.066864  1.0  6.0  9.0  11.0  18.0"
            ]
          },
          "metadata": {},
          "execution_count": 269
        }
      ]
    },
    {
      "cell_type": "code",
      "source": [
        "# Gráfico da média de items por status da assinatura\n",
        "plt.figure(figsize=(12,5))\n",
        "plt.style.use('ggplot')\n",
        "sns.boxplot(data=dados, x=\"status\", y=\"items_quantity\",showmeans=True,\n",
        "            meanprops={\"marker\":\"s\",\"markerfacecolor\":\"white\"})\n",
        "plt.title(\"Média de items por Status da assinatura\")\n",
        "plt.ylabel(\"Médio de items\")\n",
        "plt.savefig(\"plot3.png\")\n",
        "plt.show()"
      ],
      "metadata": {
        "colab": {
          "base_uri": "https://localhost:8080/",
          "height": 354
        },
        "id": "vLBcT4A-7ycH",
        "outputId": "44351d68-47d4-4f32-da1d-44e0e21a0e84"
      },
      "execution_count": null,
      "outputs": [
        {
          "output_type": "display_data",
          "data": {
            "image/png": "[encoded data removed]",
            "text/plain": [
              "<Figure size 864x360 with 1 Axes>"
            ]
          },
          "metadata": {}
        }
      ]
    },
    {
      "cell_type": "markdown",
      "source": [
        "#### Total de Receita Realizado pelo Cliente"
      ],
      "metadata": {
        "id": "d7ICLwT4-s9d"
      }
    },
    {
      "cell_type": "code",
      "source": [
        "# Estatística descritiva total de receita por status de assinatura\n",
        "dados[[\"all_revenue\",\"status\"]].groupby(\"status\").describe()"
      ],
      "metadata": {
        "colab": {
          "base_uri": "https://localhost:8080/",
          "height": 206
        },
        "id": "E8gmtNC_7yZZ",
        "outputId": "26df70dd-fea4-4fea-b6a9-04ae3ecd3716"
      },
      "execution_count": null,
      "outputs": [
        {
          "output_type": "execute_result",
          "data": {
            "text/html": [
              "\n",
              "  <div id=\"df-c48744a3-f0f6-42f4-a3c7-165fdfce3e86\">\n",
              "    <div class=\"colab-df-container\">\n",
              "      <div>\n",
              "<style scoped>\n",
              "    .dataframe tbody tr th:only-of-type {\n",
              "        vertical-align: middle;\n",
              "    }\n",
              "\n",
              "    .dataframe tbody tr th {\n",
              "        vertical-align: top;\n",
              "    }\n",
              "\n",
              "    .dataframe thead tr th {\n",
              "        text-align: left;\n",
              "    }\n",
              "\n",
              "    .dataframe thead tr:last-of-type th {\n",
              "        text-align: right;\n",
              "    }\n",
              "</style>\n",
              "<table border=\"1\" class=\"dataframe\">\n",
              "  <thead>\n",
              "    <tr>\n",
              "      <th></th>\n",
              "      <th colspan=\"8\" halign=\"left\">all_revenue</th>\n",
              "    </tr>\n",
              "    <tr>\n",
              "      <th></th>\n",
              "      <th>count</th>\n",
              "      <th>mean</th>\n",
              "      <th>std</th>\n",
              "      <th>min</th>\n",
              "      <th>25%</th>\n",
              "      <th>50%</th>\n",
              "      <th>75%</th>\n",
              "      <th>max</th>\n",
              "    </tr>\n",
              "    <tr>\n",
              "      <th>status</th>\n",
              "      <th></th>\n",
              "      <th></th>\n",
              "      <th></th>\n",
              "      <th></th>\n",
              "      <th></th>\n",
              "      <th></th>\n",
              "      <th></th>\n",
              "      <th></th>\n",
              "    </tr>\n",
              "  </thead>\n",
              "  <tbody>\n",
              "    <tr>\n",
              "      <th>active</th>\n",
              "      <td>8524.0</td>\n",
              "      <td>1180.212943</td>\n",
              "      <td>761.861660</td>\n",
              "      <td>0.0</td>\n",
              "      <td>496.417422</td>\n",
              "      <td>1182.817858</td>\n",
              "      <td>1801.683082</td>\n",
              "      <td>3225.654163</td>\n",
              "    </tr>\n",
              "    <tr>\n",
              "      <th>canceled</th>\n",
              "      <td>505.0</td>\n",
              "      <td>1059.405752</td>\n",
              "      <td>774.373741</td>\n",
              "      <td>0.0</td>\n",
              "      <td>403.113961</td>\n",
              "      <td>984.359042</td>\n",
              "      <td>1669.802614</td>\n",
              "      <td>2873.700656</td>\n",
              "    </tr>\n",
              "    <tr>\n",
              "      <th>paused</th>\n",
              "      <td>971.0</td>\n",
              "      <td>1188.209065</td>\n",
              "      <td>764.460285</td>\n",
              "      <td>0.0</td>\n",
              "      <td>581.202557</td>\n",
              "      <td>1173.128572</td>\n",
              "      <td>1813.098558</td>\n",
              "      <td>2798.724278</td>\n",
              "    </tr>\n",
              "  </tbody>\n",
              "</table>\n",
              "</div>\n",
              "      <button class=\"colab-df-convert\" onclick=\"convertToInteractive('df-c48744a3-f0f6-42f4-a3c7-165fdfce3e86')\"\n",
              "              title=\"Convert this dataframe to an interactive table.\"\n",
              "              style=\"display:none;\">\n",
              "        \n",
              "  <svg xmlns=\"http://www.w3.org/2000/svg\" height=\"24px\"viewBox=\"0 0 24 24\"\n",
              "       width=\"24px\">\n",
              "    <path d=\"M0 0h24v24H0V0z\" fill=\"none\"/>\n",
              "    <path d=\"M18.56 5.44l.94 2.06.94-2.06 2.06-.94-2.06-.94-.94-2.06-.94 2.06-2.06.94zm-11 1L8.5 8.5l.94-2.06 2.06-.94-2.06-.94L8.5 2.5l-.94 2.06-2.06.94zm10 10l.94 2.06.94-2.06 2.06-.94-2.06-.94-.94-2.06-.94 2.06-2.06.94z\"/><path d=\"M17.41 7.96l-1.37-1.37c-.4-.4-.92-.59-1.43-.59-.52 0-1.04.2-1.43.59L10.3 9.45l-7.72 7.72c-.78.78-.78 2.05 0 2.83L4 21.41c.39.39.9.59 1.41.59.51 0 1.02-.2 1.41-.59l7.78-7.78 2.81-2.81c.8-.78.8-2.07 0-2.86zM5.41 20L4 18.59l7.72-7.72 1.47 1.35L5.41 20z\"/>\n",
              "  </svg>\n",
              "      </button>\n",
              "      \n",
              "  <style>\n",
              "    .colab-df-container {\n",
              "      display:flex;\n",
              "      flex-wrap:wrap;\n",
              "      gap: 12px;\n",
              "    }\n",
              "\n",
              "    .colab-df-convert {\n",
              "      background-color: #E8F0FE;\n",
              "      border: none;\n",
              "      border-radius: 50%;\n",
              "      cursor: pointer;\n",
              "      display: none;\n",
              "      fill: #1967D2;\n",
              "      height: 32px;\n",
              "      padding: 0 0 0 0;\n",
              "      width: 32px;\n",
              "    }\n",
              "\n",
              "    .colab-df-convert:hover {\n",
              "      background-color: #E2EBFA;\n",
              "      box-shadow: 0px 1px 2px rgba(60, 64, 67, 0.3), 0px 1px 3px 1px rgba(60, 64, 67, 0.15);\n",
              "      fill: #174EA6;\n",
              "    }\n",
              "\n",
              "    [theme=dark] .colab-df-convert {\n",
              "      background-color: #3B4455;\n",
              "      fill: #D2E3FC;\n",
              "    }\n",
              "\n",
              "    [theme=dark] .colab-df-convert:hover {\n",
              "      background-color: #434B5C;\n",
              "      box-shadow: 0px 1px 3px 1px rgba(0, 0, 0, 0.15);\n",
              "      filter: drop-shadow(0px 1px 2px rgba(0, 0, 0, 0.3));\n",
              "      fill: #FFFFFF;\n",
              "    }\n",
              "  </style>\n",
              "\n",
              "      <script>\n",
              "        const buttonEl =\n",
              "          document.querySelector('#df-c48744a3-f0f6-42f4-a3c7-165fdfce3e86 button.colab-df-convert');\n",
              "        buttonEl.style.display =\n",
              "          google.colab.kernel.accessAllowed ? 'block' : 'none';\n",
              "\n",
              "        async function convertToInteractive(key) {\n",
              "          const element = document.querySelector('#df-c48744a3-f0f6-42f4-a3c7-165fdfce3e86');\n",
              "          const dataTable =\n",
              "            await google.colab.kernel.invokeFunction('convertToInteractive',\n",
              "                                                     [key], {});\n",
              "          if (!dataTable) return;\n",
              "\n",
              "          const docLinkHtml = 'Like what you see? Visit the ' +\n",
              "            '<a target=\"_blank\" href=https://colab.research.google.com/notebooks/data_table.ipynb>data table notebook</a>'\n",
              "            + ' to learn more about interactive tables.';\n",
              "          element.innerHTML = '';\n",
              "          dataTable['output_type'] = 'display_data';\n",
              "          await google.colab.output.renderOutput(dataTable, element);\n",
              "          const docLink = document.createElement('div');\n",
              "          docLink.innerHTML = docLinkHtml;\n",
              "          element.appendChild(docLink);\n",
              "        }\n",
              "      </script>\n",
              "    </div>\n",
              "  </div>\n",
              "  "
            ],
            "text/plain": [
              "         all_revenue               ...                          \n",
              "               count         mean  ...          75%          max\n",
              "status                             ...                          \n",
              "active        8524.0  1180.212943  ...  1801.683082  3225.654163\n",
              "canceled       505.0  1059.405752  ...  1669.802614  2873.700656\n",
              "paused         971.0  1188.209065  ...  1813.098558  2798.724278\n",
              "\n",
              "[3 rows x 8 columns]"
            ]
          },
          "metadata": {},
          "execution_count": 271
        }
      ]
    },
    {
      "cell_type": "code",
      "source": [
        "# Gráfico do total de receita por status da assinatura\n",
        "plt.figure(figsize=(12,5))\n",
        "plt.style.use('ggplot')\n",
        "sns.boxplot(data=dados, x=\"status\", y=\"all_revenue\",showmeans=True,\n",
        "            meanprops={\"marker\":\"s\",\"markerfacecolor\":\"white\"})\n",
        "plt.title(\"Total de receita por Status da assinatura\")\n",
        "plt.ylabel(\"Total de receita realizada\")\n",
        "plt.savefig(\"plot4.png\")\n",
        "plt.show()"
      ],
      "metadata": {
        "colab": {
          "base_uri": "https://localhost:8080/",
          "height": 354
        },
        "id": "eTnmooLC-oOb",
        "outputId": "967b16dc-12bd-4725-cbd2-9ed7899c857e"
      },
      "execution_count": null,
      "outputs": [
        {
          "output_type": "display_data",
          "data": {
            "image/png": "[encoded data removed]",
            "text/plain": [
              "<Figure size 864x360 with 1 Axes>"
            ]
          },
          "metadata": {}
        }
      ]
    },
    {
      "cell_type": "markdown",
      "source": [
        "#### Total de Pedidos Realizado pelo Cliente"
      ],
      "metadata": {
        "id": "FGlqQVFy_e9M"
      }
    },
    {
      "cell_type": "code",
      "source": [
        "# Estatística descritiva total de pedidos por status de assinatura\n",
        "dados[[\"all_orders\",\"status\"]].groupby(\"status\").describe()"
      ],
      "metadata": {
        "colab": {
          "base_uri": "https://localhost:8080/",
          "height": 206
        },
        "id": "o_ZmmI3I-oIi",
        "outputId": "cb5fbe67-0138-4fb1-d514-38e14443dbd8"
      },
      "execution_count": null,
      "outputs": [
        {
          "output_type": "execute_result",
          "data": {
            "text/html": [
              "\n",
              "  <div id=\"df-aef661fb-f614-49a4-9dbc-3befe1a95775\">\n",
              "    <div class=\"colab-df-container\">\n",
              "      <div>\n",
              "<style scoped>\n",
              "    .dataframe tbody tr th:only-of-type {\n",
              "        vertical-align: middle;\n",
              "    }\n",
              "\n",
              "    .dataframe tbody tr th {\n",
              "        vertical-align: top;\n",
              "    }\n",
              "\n",
              "    .dataframe thead tr th {\n",
              "        text-align: left;\n",
              "    }\n",
              "\n",
              "    .dataframe thead tr:last-of-type th {\n",
              "        text-align: right;\n",
              "    }\n",
              "</style>\n",
              "<table border=\"1\" class=\"dataframe\">\n",
              "  <thead>\n",
              "    <tr>\n",
              "      <th></th>\n",
              "      <th colspan=\"8\" halign=\"left\">all_orders</th>\n",
              "    </tr>\n",
              "    <tr>\n",
              "      <th></th>\n",
              "      <th>count</th>\n",
              "      <th>mean</th>\n",
              "      <th>std</th>\n",
              "      <th>min</th>\n",
              "      <th>25%</th>\n",
              "      <th>50%</th>\n",
              "      <th>75%</th>\n",
              "      <th>max</th>\n",
              "    </tr>\n",
              "    <tr>\n",
              "      <th>status</th>\n",
              "      <th></th>\n",
              "      <th></th>\n",
              "      <th></th>\n",
              "      <th></th>\n",
              "      <th></th>\n",
              "      <th></th>\n",
              "      <th></th>\n",
              "      <th></th>\n",
              "    </tr>\n",
              "  </thead>\n",
              "  <tbody>\n",
              "    <tr>\n",
              "      <th>active</th>\n",
              "      <td>8524.0</td>\n",
              "      <td>5.444510</td>\n",
              "      <td>3.453667</td>\n",
              "      <td>0.0</td>\n",
              "      <td>2.0</td>\n",
              "      <td>6.0</td>\n",
              "      <td>8.0</td>\n",
              "      <td>11.0</td>\n",
              "    </tr>\n",
              "    <tr>\n",
              "      <th>canceled</th>\n",
              "      <td>505.0</td>\n",
              "      <td>4.857426</td>\n",
              "      <td>3.483446</td>\n",
              "      <td>0.0</td>\n",
              "      <td>2.0</td>\n",
              "      <td>5.0</td>\n",
              "      <td>8.0</td>\n",
              "      <td>11.0</td>\n",
              "    </tr>\n",
              "    <tr>\n",
              "      <th>paused</th>\n",
              "      <td>971.0</td>\n",
              "      <td>5.450051</td>\n",
              "      <td>3.457299</td>\n",
              "      <td>0.0</td>\n",
              "      <td>3.0</td>\n",
              "      <td>5.0</td>\n",
              "      <td>8.0</td>\n",
              "      <td>11.0</td>\n",
              "    </tr>\n",
              "  </tbody>\n",
              "</table>\n",
              "</div>\n",
              "      <button class=\"colab-df-convert\" onclick=\"convertToInteractive('df-aef661fb-f614-49a4-9dbc-3befe1a95775')\"\n",
              "              title=\"Convert this dataframe to an interactive table.\"\n",
              "              style=\"display:none;\">\n",
              "        \n",
              "  <svg xmlns=\"http://www.w3.org/2000/svg\" height=\"24px\"viewBox=\"0 0 24 24\"\n",
              "       width=\"24px\">\n",
              "    <path d=\"M0 0h24v24H0V0z\" fill=\"none\"/>\n",
              "    <path d=\"M18.56 5.44l.94 2.06.94-2.06 2.06-.94-2.06-.94-.94-2.06-.94 2.06-2.06.94zm-11 1L8.5 8.5l.94-2.06 2.06-.94-2.06-.94L8.5 2.5l-.94 2.06-2.06.94zm10 10l.94 2.06.94-2.06 2.06-.94-2.06-.94-.94-2.06-.94 2.06-2.06.94z\"/><path d=\"M17.41 7.96l-1.37-1.37c-.4-.4-.92-.59-1.43-.59-.52 0-1.04.2-1.43.59L10.3 9.45l-7.72 7.72c-.78.78-.78 2.05 0 2.83L4 21.41c.39.39.9.59 1.41.59.51 0 1.02-.2 1.41-.59l7.78-7.78 2.81-2.81c.8-.78.8-2.07 0-2.86zM5.41 20L4 18.59l7.72-7.72 1.47 1.35L5.41 20z\"/>\n",
              "  </svg>\n",
              "      </button>\n",
              "      \n",
              "  <style>\n",
              "    .colab-df-container {\n",
              "      display:flex;\n",
              "      flex-wrap:wrap;\n",
              "      gap: 12px;\n",
              "    }\n",
              "\n",
              "    .colab-df-convert {\n",
              "      background-color: #E8F0FE;\n",
              "      border: none;\n",
              "      border-radius: 50%;\n",
              "      cursor: pointer;\n",
              "      display: none;\n",
              "      fill: #1967D2;\n",
              "      height: 32px;\n",
              "      padding: 0 0 0 0;\n",
              "      width: 32px;\n",
              "    }\n",
              "\n",
              "    .colab-df-convert:hover {\n",
              "      background-color: #E2EBFA;\n",
              "      box-shadow: 0px 1px 2px rgba(60, 64, 67, 0.3), 0px 1px 3px 1px rgba(60, 64, 67, 0.15);\n",
              "      fill: #174EA6;\n",
              "    }\n",
              "\n",
              "    [theme=dark] .colab-df-convert {\n",
              "      background-color: #3B4455;\n",
              "      fill: #D2E3FC;\n",
              "    }\n",
              "\n",
              "    [theme=dark] .colab-df-convert:hover {\n",
              "      background-color: #434B5C;\n",
              "      box-shadow: 0px 1px 3px 1px rgba(0, 0, 0, 0.15);\n",
              "      filter: drop-shadow(0px 1px 2px rgba(0, 0, 0, 0.3));\n",
              "      fill: #FFFFFF;\n",
              "    }\n",
              "  </style>\n",
              "\n",
              "      <script>\n",
              "        const buttonEl =\n",
              "          document.querySelector('#df-aef661fb-f614-49a4-9dbc-3befe1a95775 button.colab-df-convert');\n",
              "        buttonEl.style.display =\n",
              "          google.colab.kernel.accessAllowed ? 'block' : 'none';\n",
              "\n",
              "        async function convertToInteractive(key) {\n",
              "          const element = document.querySelector('#df-aef661fb-f614-49a4-9dbc-3befe1a95775');\n",
              "          const dataTable =\n",
              "            await google.colab.kernel.invokeFunction('convertToInteractive',\n",
              "                                                     [key], {});\n",
              "          if (!dataTable) return;\n",
              "\n",
              "          const docLinkHtml = 'Like what you see? Visit the ' +\n",
              "            '<a target=\"_blank\" href=https://colab.research.google.com/notebooks/data_table.ipynb>data table notebook</a>'\n",
              "            + ' to learn more about interactive tables.';\n",
              "          element.innerHTML = '';\n",
              "          dataTable['output_type'] = 'display_data';\n",
              "          await google.colab.output.renderOutput(dataTable, element);\n",
              "          const docLink = document.createElement('div');\n",
              "          docLink.innerHTML = docLinkHtml;\n",
              "          element.appendChild(docLink);\n",
              "        }\n",
              "      </script>\n",
              "    </div>\n",
              "  </div>\n",
              "  "
            ],
            "text/plain": [
              "         all_orders                                              \n",
              "              count      mean       std  min  25%  50%  75%   max\n",
              "status                                                           \n",
              "active       8524.0  5.444510  3.453667  0.0  2.0  6.0  8.0  11.0\n",
              "canceled      505.0  4.857426  3.483446  0.0  2.0  5.0  8.0  11.0\n",
              "paused        971.0  5.450051  3.457299  0.0  3.0  5.0  8.0  11.0"
            ]
          },
          "metadata": {},
          "execution_count": 273
        }
      ]
    },
    {
      "cell_type": "code",
      "source": [
        "# Gráfico do total de pedidos por status da assinatura\n",
        "plt.figure(figsize=(12,5))\n",
        "plt.style.use('ggplot')\n",
        "sns.boxplot(data=dados, x=\"status\", y=\"all_orders\",showmeans=True,\n",
        "            meanprops={\"marker\":\"s\",\"markerfacecolor\":\"white\"})\n",
        "plt.title(\"Total de pedidos por Status da assinatura\")\n",
        "plt.ylabel(\"Total de pedidos\")\n",
        "plt.savefig(\"plot5.png\")\n",
        "plt.show()"
      ],
      "metadata": {
        "colab": {
          "base_uri": "https://localhost:8080/",
          "height": 354
        },
        "id": "VCRVcNxB-oE0",
        "outputId": "812be31e-eaf3-42af-aca3-455cfb6bb991"
      },
      "execution_count": null,
      "outputs": [
        {
          "output_type": "display_data",
          "data": {
            "image/png": "[encoded data removed]",
            "text/plain": [
              "<Figure size 864x360 with 1 Axes>"
            ]
          },
          "metadata": {}
        }
      ]
    },
    {
      "cell_type": "markdown",
      "source": [
        "#### Tempo Desde a Última Compra do Cliente"
      ],
      "metadata": {
        "id": "eZr1Jxvi_tq7"
      }
    },
    {
      "cell_type": "code",
      "source": [
        "# Estatística descritiva do tempo desde última compra por status de assinatura\n",
        "dados[[\"recency\",\"status\"]].groupby(\"status\").describe()"
      ],
      "metadata": {
        "colab": {
          "base_uri": "https://localhost:8080/",
          "height": 206
        },
        "id": "RJtcT8X5_zxg",
        "outputId": "46238595-25db-41a9-fa84-e423a42e6dd6"
      },
      "execution_count": null,
      "outputs": [
        {
          "output_type": "execute_result",
          "data": {
            "text/html": [
              "\n",
              "  <div id=\"df-15f08694-3e73-41ce-b1df-b0b95f264d9e\">\n",
              "    <div class=\"colab-df-container\">\n",
              "      <div>\n",
              "<style scoped>\n",
              "    .dataframe tbody tr th:only-of-type {\n",
              "        vertical-align: middle;\n",
              "    }\n",
              "\n",
              "    .dataframe tbody tr th {\n",
              "        vertical-align: top;\n",
              "    }\n",
              "\n",
              "    .dataframe thead tr th {\n",
              "        text-align: left;\n",
              "    }\n",
              "\n",
              "    .dataframe thead tr:last-of-type th {\n",
              "        text-align: right;\n",
              "    }\n",
              "</style>\n",
              "<table border=\"1\" class=\"dataframe\">\n",
              "  <thead>\n",
              "    <tr>\n",
              "      <th></th>\n",
              "      <th colspan=\"8\" halign=\"left\">recency</th>\n",
              "    </tr>\n",
              "    <tr>\n",
              "      <th></th>\n",
              "      <th>count</th>\n",
              "      <th>mean</th>\n",
              "      <th>std</th>\n",
              "      <th>min</th>\n",
              "      <th>25%</th>\n",
              "      <th>50%</th>\n",
              "      <th>75%</th>\n",
              "      <th>max</th>\n",
              "    </tr>\n",
              "    <tr>\n",
              "      <th>status</th>\n",
              "      <th></th>\n",
              "      <th></th>\n",
              "      <th></th>\n",
              "      <th></th>\n",
              "      <th></th>\n",
              "      <th></th>\n",
              "      <th></th>\n",
              "      <th></th>\n",
              "    </tr>\n",
              "  </thead>\n",
              "  <tbody>\n",
              "    <tr>\n",
              "      <th>active</th>\n",
              "      <td>8524.0</td>\n",
              "      <td>34.532145</td>\n",
              "      <td>6.070320</td>\n",
              "      <td>11.0</td>\n",
              "      <td>30.0</td>\n",
              "      <td>35.0</td>\n",
              "      <td>39.0</td>\n",
              "      <td>56.0</td>\n",
              "    </tr>\n",
              "    <tr>\n",
              "      <th>canceled</th>\n",
              "      <td>505.0</td>\n",
              "      <td>680.970297</td>\n",
              "      <td>463.006656</td>\n",
              "      <td>1.0</td>\n",
              "      <td>278.0</td>\n",
              "      <td>600.0</td>\n",
              "      <td>1031.0</td>\n",
              "      <td>1820.0</td>\n",
              "    </tr>\n",
              "    <tr>\n",
              "      <th>paused</th>\n",
              "      <td>971.0</td>\n",
              "      <td>34.693100</td>\n",
              "      <td>5.862914</td>\n",
              "      <td>18.0</td>\n",
              "      <td>31.0</td>\n",
              "      <td>34.0</td>\n",
              "      <td>39.0</td>\n",
              "      <td>55.0</td>\n",
              "    </tr>\n",
              "  </tbody>\n",
              "</table>\n",
              "</div>\n",
              "      <button class=\"colab-df-convert\" onclick=\"convertToInteractive('df-15f08694-3e73-41ce-b1df-b0b95f264d9e')\"\n",
              "              title=\"Convert this dataframe to an interactive table.\"\n",
              "              style=\"display:none;\">\n",
              "        \n",
              "  <svg xmlns=\"http://www.w3.org/2000/svg\" height=\"24px\"viewBox=\"0 0 24 24\"\n",
              "       width=\"24px\">\n",
              "    <path d=\"M0 0h24v24H0V0z\" fill=\"none\"/>\n",
              "    <path d=\"M18.56 5.44l.94 2.06.94-2.06 2.06-.94-2.06-.94-.94-2.06-.94 2.06-2.06.94zm-11 1L8.5 8.5l.94-2.06 2.06-.94-2.06-.94L8.5 2.5l-.94 2.06-2.06.94zm10 10l.94 2.06.94-2.06 2.06-.94-2.06-.94-.94-2.06-.94 2.06-2.06.94z\"/><path d=\"M17.41 7.96l-1.37-1.37c-.4-.4-.92-.59-1.43-.59-.52 0-1.04.2-1.43.59L10.3 9.45l-7.72 7.72c-.78.78-.78 2.05 0 2.83L4 21.41c.39.39.9.59 1.41.59.51 0 1.02-.2 1.41-.59l7.78-7.78 2.81-2.81c.8-.78.8-2.07 0-2.86zM5.41 20L4 18.59l7.72-7.72 1.47 1.35L5.41 20z\"/>\n",
              "  </svg>\n",
              "      </button>\n",
              "      \n",
              "  <style>\n",
              "    .colab-df-container {\n",
              "      display:flex;\n",
              "      flex-wrap:wrap;\n",
              "      gap: 12px;\n",
              "    }\n",
              "\n",
              "    .colab-df-convert {\n",
              "      background-color: #E8F0FE;\n",
              "      border: none;\n",
              "      border-radius: 50%;\n",
              "      cursor: pointer;\n",
              "      display: none;\n",
              "      fill: #1967D2;\n",
              "      height: 32px;\n",
              "      padding: 0 0 0 0;\n",
              "      width: 32px;\n",
              "    }\n",
              "\n",
              "    .colab-df-convert:hover {\n",
              "      background-color: #E2EBFA;\n",
              "      box-shadow: 0px 1px 2px rgba(60, 64, 67, 0.3), 0px 1px 3px 1px rgba(60, 64, 67, 0.15);\n",
              "      fill: #174EA6;\n",
              "    }\n",
              "\n",
              "    [theme=dark] .colab-df-convert {\n",
              "      background-color: #3B4455;\n",
              "      fill: #D2E3FC;\n",
              "    }\n",
              "\n",
              "    [theme=dark] .colab-df-convert:hover {\n",
              "      background-color: #434B5C;\n",
              "      box-shadow: 0px 1px 3px 1px rgba(0, 0, 0, 0.15);\n",
              "      filter: drop-shadow(0px 1px 2px rgba(0, 0, 0, 0.3));\n",
              "      fill: #FFFFFF;\n",
              "    }\n",
              "  </style>\n",
              "\n",
              "      <script>\n",
              "        const buttonEl =\n",
              "          document.querySelector('#df-15f08694-3e73-41ce-b1df-b0b95f264d9e button.colab-df-convert');\n",
              "        buttonEl.style.display =\n",
              "          google.colab.kernel.accessAllowed ? 'block' : 'none';\n",
              "\n",
              "        async function convertToInteractive(key) {\n",
              "          const element = document.querySelector('#df-15f08694-3e73-41ce-b1df-b0b95f264d9e');\n",
              "          const dataTable =\n",
              "            await google.colab.kernel.invokeFunction('convertToInteractive',\n",
              "                                                     [key], {});\n",
              "          if (!dataTable) return;\n",
              "\n",
              "          const docLinkHtml = 'Like what you see? Visit the ' +\n",
              "            '<a target=\"_blank\" href=https://colab.research.google.com/notebooks/data_table.ipynb>data table notebook</a>'\n",
              "            + ' to learn more about interactive tables.';\n",
              "          element.innerHTML = '';\n",
              "          dataTable['output_type'] = 'display_data';\n",
              "          await google.colab.output.renderOutput(dataTable, element);\n",
              "          const docLink = document.createElement('div');\n",
              "          docLink.innerHTML = docLinkHtml;\n",
              "          element.appendChild(docLink);\n",
              "        }\n",
              "      </script>\n",
              "    </div>\n",
              "  </div>\n",
              "  "
            ],
            "text/plain": [
              "         recency                                                            \n",
              "           count        mean         std   min    25%    50%     75%     max\n",
              "status                                                                      \n",
              "active    8524.0   34.532145    6.070320  11.0   30.0   35.0    39.0    56.0\n",
              "canceled   505.0  680.970297  463.006656   1.0  278.0  600.0  1031.0  1820.0\n",
              "paused     971.0   34.693100    5.862914  18.0   31.0   34.0    39.0    55.0"
            ]
          },
          "metadata": {},
          "execution_count": 275
        }
      ]
    },
    {
      "cell_type": "code",
      "source": [
        "# Gráfico do tempo desde última compra por status da assinatura\n",
        "plt.figure(figsize=(12,5))\n",
        "plt.style.use('ggplot')\n",
        "sns.boxplot(data=dados, x=\"status\", y=\"recency\",showmeans=True,\n",
        "            meanprops={\"marker\":\"s\",\"markerfacecolor\":\"white\"})\n",
        "plt.title(\"Tempo desde última compra por Status da assinatura\")\n",
        "plt.ylabel(\"Dias\")\n",
        "plt.savefig(\"plot6.png\")\n",
        "plt.show()"
      ],
      "metadata": {
        "colab": {
          "base_uri": "https://localhost:8080/",
          "height": 354
        },
        "id": "lRBCPy8w_zoD",
        "outputId": "79c83f0e-574d-421f-97f8-45350123d3b3"
      },
      "execution_count": null,
      "outputs": [
        {
          "output_type": "display_data",
          "data": {
            "image/png": "[encoded data removed]",
            "text/plain": [
              "<Figure size 864x360 with 1 Axes>"
            ]
          },
          "metadata": {}
        }
      ]
    },
    {
      "cell_type": "markdown",
      "source": [
        "### Idade do cliente"
      ],
      "metadata": {
        "id": "kEzBCPHqEDWy"
      }
    },
    {
      "cell_type": "code",
      "source": [
        "# Selecionando data nascimento assinaturas canceladas\n",
        "age_canceled= pd.to_datetime(dados[dados[\"status\"]==\"canceled\"].birth_date)"
      ],
      "metadata": {
        "id": "FJT21MH8wr_p"
      },
      "execution_count": null,
      "outputs": []
    },
    {
      "cell_type": "code",
      "source": [
        "# Transformando data de nascimento em idade\n",
        "age_canceled=age_canceled.dt.year.astype(str)\n",
        "head=pd.Series(age_canceled).str[:2].replace(\"20\",\"19\")\n",
        "tail=pd.Series(age_canceled).str[2:]\n",
        "age_canceled= head + tail\n",
        "age_canceled= 2021 - age_canceled.astype(int)"
      ],
      "metadata": {
        "id": "5GBqoQvz6dsI"
      },
      "execution_count": null,
      "outputs": []
    },
    {
      "cell_type": "code",
      "source": [
        "# Estatística descritiva da idade\n",
        "age_canceled.describe()"
      ],
      "metadata": {
        "colab": {
          "base_uri": "https://localhost:8080/"
        },
        "id": "5eHWI8RN6vsx",
        "outputId": "3ec8374a-f7e6-46eb-8339-be97f985b25a"
      },
      "execution_count": null,
      "outputs": [
        {
          "output_type": "execute_result",
          "data": {
            "text/plain": [
              "count    505.000000\n",
              "mean      53.522772\n",
              "std       16.307316\n",
              "min       25.000000\n",
              "25%       39.000000\n",
              "50%       54.000000\n",
              "75%       68.000000\n",
              "max       81.000000\n",
              "Name: birth_date, dtype: float64"
            ]
          },
          "metadata": {},
          "execution_count": 279
        }
      ]
    },
    {
      "cell_type": "code",
      "source": [
        "# Selecionando data nascimento assinaturas canceladas\n",
        "age_active= pd.to_datetime(dados[dados[\"status\"]==\"active\"].birth_date)\n",
        "age_active=age_active.dt.year.astype(str)\n",
        "head2=pd.Series(age_active).str[:2].replace(\"20\",\"19\")\n",
        "tail2=pd.Series(age_active).str[2:]\n",
        "age_active= head2 + tail2\n",
        "age_active= 2021 - age_active.astype(int)\n",
        "age_active.describe()"
      ],
      "metadata": {
        "colab": {
          "base_uri": "https://localhost:8080/"
        },
        "id": "rIyRt-FEp7hm",
        "outputId": "e3a0bc54-7be3-43eb-efd7-fa7386fa8d18"
      },
      "execution_count": null,
      "outputs": [
        {
          "output_type": "execute_result",
          "data": {
            "text/plain": [
              "count    8524.000000\n",
              "mean       53.204247\n",
              "std        16.068277\n",
              "min        25.000000\n",
              "25%        39.000000\n",
              "50%        53.000000\n",
              "75%        67.000000\n",
              "max        81.000000\n",
              "Name: birth_date, dtype: float64"
            ]
          },
          "metadata": {},
          "execution_count": 280
        }
      ]
    },
    {
      "cell_type": "code",
      "source": [
        "# Gráfico idade dos usuários de assinaturas canceladas\n",
        "age_canceled.hist(figsize=(12,5),bins=40,histtype='bar',alpha=0.5,ec='black')\n",
        "plt.xlabel(\"Idade\")\n",
        "plt.title(\"Idade dos usuários de assinaturas canceladas\")\n",
        "plt.savefig(\"plot14.png\")\n",
        "plt.show()"
      ],
      "metadata": {
        "colab": {
          "base_uri": "https://localhost:8080/",
          "height": 354
        },
        "id": "gM7eCl0X4j-H",
        "outputId": "73327515-e4c6-4a22-b17d-9831b1749177"
      },
      "execution_count": null,
      "outputs": [
        {
          "output_type": "display_data",
          "data": {
            "image/png": "[encoded data removed]",
            "text/plain": [
              "<Figure size 864x360 with 1 Axes>"
            ]
          },
          "metadata": {}
        }
      ]
    },
    {
      "cell_type": "markdown",
      "source": [
        "### 2. TEMPO DE ASSINATURA"
      ],
      "metadata": {
        "id": "xO7FJ3r6AaXa"
      }
    },
    {
      "cell_type": "code",
      "source": [
        "# Período entre criação e cancelamento da assinatura\n",
        "time= pd.to_datetime(dados[\"deleted_at\"]) - pd.to_datetime(dados[\"created_at\"])"
      ],
      "metadata": {
        "id": "ZSNORfwGAaXb"
      },
      "execution_count": null,
      "outputs": []
    },
    {
      "cell_type": "code",
      "source": [
        "# Gráfico com tempo de assinatura\n",
        "timeMonth=time.dt.days /30\n",
        "plt.style.use('ggplot')\n",
        "timeMonth.hist(figsize=(12,5),bins=30,histtype='bar',alpha=0.5,ec='black')\n",
        "plt.title(\"Tempo de assinatura\")\n",
        "plt.ylabel(\"Frequência\")\n",
        "plt.xlabel(\"Meses\")\n",
        "plt.savefig(\"plot7.png\")\n",
        "plt.show()"
      ],
      "metadata": {
        "colab": {
          "base_uri": "https://localhost:8080/",
          "height": 354
        },
        "outputId": "5ab53b38-ced5-4b18-ec48-32076a2da2a6",
        "id": "0qfyYZuoAaXb"
      },
      "execution_count": null,
      "outputs": [
        {
          "output_type": "display_data",
          "data": {
            "image/png": "[encoded data removed]",
            "text/plain": [
              "<Figure size 864x360 with 1 Axes>"
            ]
          },
          "metadata": {}
        }
      ]
    },
    {
      "cell_type": "markdown",
      "source": [
        "### 3. VERSÃO DA ASSINATURA"
      ],
      "metadata": {
        "id": "_47Aup-Gvtf-"
      }
    },
    {
      "cell_type": "code",
      "source": [
        "# Convertendo e editando a coluna versão de assinatura\n",
        "dados[\"version_ed\"]= dados.version.astype(str).str[0].astype(int)"
      ],
      "metadata": {
        "id": "LESDFHVUGljL"
      },
      "execution_count": null,
      "outputs": []
    },
    {
      "cell_type": "code",
      "source": [
        "# Gráfico versão da assinatura\n",
        "plt.figure(figsize=(12,5))\n",
        "total = float(len(dados[\"version_ed\"]))\n",
        "cp=sns.countplot(dados[\"version_ed\"])\n",
        "for p in cp.patches:\n",
        "    percentage = '{:.1f}%'.format(100 * p.get_height()/total)\n",
        "    x = p.get_x() + p.get_width() /2\n",
        "    y = p.get_height()\n",
        "    cp.annotate(percentage, (x, y),size=14,ha=\"center\",va=\"center\")\n",
        "plt.title(\"Versão da assinatura\")\n",
        "plt.xlabel(\"Versão\")\n",
        "plt.savefig(\"plot8.png\")\n",
        "plt.show()"
      ],
      "metadata": {
        "colab": {
          "base_uri": "https://localhost:8080/",
          "height": 354
        },
        "id": "spA0UePG1J31",
        "outputId": "f99a78f5-7227-4780-a82e-54dfc9e1de13"
      },
      "execution_count": null,
      "outputs": [
        {
          "output_type": "display_data",
          "data": {
            "image/png": "[encoded data removed]",
            "text/plain": [
              "<Figure size 864x360 with 1 Axes>"
            ]
          },
          "metadata": {}
        }
      ]
    },
    {
      "cell_type": "code",
      "source": [
        "# Gráfico versão por status cancelado da assinatura\n",
        "canceled_plot=dados[dados[\"status\"]== \"canceled\"].version_ed\n",
        "plt.figure(figsize=(12,5))\n",
        "total = float(len(canceled_plot))\n",
        "cp=sns.countplot(canceled_plot)\n",
        "for p in cp.patches:\n",
        "    percentage = '{:.1f}%'.format(100 * p.get_height()/total)\n",
        "    x = p.get_x() + p.get_width() /2\n",
        "    y = p.get_height()\n",
        "    cp.annotate(percentage, (x, y),size=14,ha=\"center\",va=\"center\")\n",
        "plt.title(\"Versão da assinatura Status Canceled\")\n",
        "plt.xlabel(\"Versão\")\n",
        "plt.savefig(\"plot9.png\")\n",
        "plt.show()"
      ],
      "metadata": {
        "colab": {
          "base_uri": "https://localhost:8080/",
          "height": 354
        },
        "id": "DMV1YVR9ty0Y",
        "outputId": "2318cb24-27bd-49d0-ac4d-ff2e3ed845b5"
      },
      "execution_count": null,
      "outputs": [
        {
          "output_type": "display_data",
          "data": {
            "image/png": "[encoded data removed]",
            "text/plain": [
              "<Figure size 864x360 with 1 Axes>"
            ]
          },
          "metadata": {}
        }
      ]
    },
    {
      "cell_type": "code",
      "source": [
        "# Gráfico versão por status cancelado da assinatura\n",
        "active_plot=dados[dados[\"status\"]== \"active\"].version_ed\n",
        "plt.figure(figsize=(12,5))\n",
        "total = float(len(active_plot))\n",
        "cp=sns.countplot(active_plot)\n",
        "for p in cp.patches:\n",
        "    percentage = '{:.1f}%'.format(100 * p.get_height()/total)\n",
        "    x = p.get_x() + p.get_width() /2\n",
        "    y = p.get_height()\n",
        "    cp.annotate(percentage, (x, y),size=14,ha=\"center\",va=\"center\")\n",
        "plt.title(\"Versão da assinatura Status Active\")\n",
        "plt.show()"
      ],
      "metadata": {
        "colab": {
          "base_uri": "https://localhost:8080/",
          "height": 354
        },
        "id": "rFuuV2qKwgFT",
        "outputId": "7c170f56-4e04-4b8b-af8c-335f47d8b96b"
      },
      "execution_count": null,
      "outputs": [
        {
          "output_type": "display_data",
          "data": {
            "image/png": "[encoded data removed]",
            "text/plain": [
              "<Figure size 864x360 with 1 Axes>"
            ]
          },
          "metadata": {}
        }
      ]
    },
    {
      "cell_type": "markdown",
      "source": [
        "## ESTADO E STATUS DA ASSINATURA"
      ],
      "metadata": {
        "id": "K8DWaX0e-Tgo"
      }
    },
    {
      "cell_type": "code",
      "source": [
        "# Gráfico Estado e status da assinatura\n",
        "dados_final=dados.groupby([\"state\",\"status\"]).size().unstack(1)\n",
        "state = dados_final.plot(kind='bar',figsize=(12,5), rot=0)\n",
        "plt.title(\"Estado e Status da assinatura\")\n",
        "plt.xlabel(\"Estado\")\n",
        "plt.savefig(\"plot10.png\")\n",
        "plt.show()"
      ],
      "metadata": {
        "colab": {
          "base_uri": "https://localhost:8080/",
          "height": 354
        },
        "id": "tTZFD5qLXGbI",
        "outputId": "59100095-ac0c-487e-977e-4c45979cc30d"
      },
      "execution_count": null,
      "outputs": [
        {
          "output_type": "display_data",
          "data": {
            "image/png": "[encoded data removed]",
            "text/plain": [
              "<Figure size 864x360 with 1 Axes>"
            ]
          },
          "metadata": {}
        }
      ]
    },
    {
      "cell_type": "code",
      "source": [
        "# Gráfico Estado dos assinaturas canceladas\n",
        "dados_final.canceled.sort_values(ascending=False).plot(kind=\"bar\",figsize=(12,5),rot=0)\n",
        "plt.title(\"Estados status da assinatura Canceled\")\n",
        "plt.xlabel(\"Estado\")\n",
        "plt.savefig(\"plot11.png\")\n",
        "plt.show()"
      ],
      "metadata": {
        "colab": {
          "base_uri": "https://localhost:8080/",
          "height": 354
        },
        "id": "muypuusIBJ_-",
        "outputId": "27777a6e-6161-4e91-a761-4989f3f4f455"
      },
      "execution_count": null,
      "outputs": [
        {
          "output_type": "display_data",
          "data": {
            "image/png": "[encoded data removed]",
            "text/plain": [
              "<Figure size 864x360 with 1 Axes>"
            ]
          },
          "metadata": {}
        }
      ]
    },
    {
      "cell_type": "markdown",
      "source": [
        "## CANAL ASSINATURA"
      ],
      "metadata": {
        "id": "GwA6X03OFVwP"
      }
    },
    {
      "cell_type": "code",
      "source": [
        "# Gráfico canal de marketing da assinatura\n",
        "plt.style.use('ggplot')\n",
        "dados[\"marketing_source\"].hist(figsize=(12,5),bins=30,histtype='bar',alpha=0.5,ec='black')\n",
        "plt.title(\"Canal de Marketing da assinatura\")\n",
        "plt.xlabel(\"Canal de Marketing\")\n",
        "plt.savefig(\"plot12.png\")\n",
        "plt.show()"
      ],
      "metadata": {
        "colab": {
          "base_uri": "https://localhost:8080/",
          "height": 355
        },
        "id": "a0k7E1U4EyNM",
        "outputId": "2d7041d9-bb5e-47e0-de28-3dabef15c32a"
      },
      "execution_count": null,
      "outputs": [
        {
          "output_type": "display_data",
          "data": {
            "image/png": "[encoded data removed]",
            "text/plain": [
              "<Figure size 864x360 with 1 Axes>"
            ]
          },
          "metadata": {}
        }
      ]
    },
    {
      "cell_type": "code",
      "source": [
        "# Gráfico canal de marketing de assinaturas canceladas\n",
        "plt.style.use('ggplot')\n",
        "dados[dados[\"status\"]==\"canceled\"].marketing_source.hist(figsize=(12,5),bins=30,histtype='bar',alpha=0.5,ec='black')\n",
        "plt.title(\"Canal de Marketing de assinaturas canceladas\")\n",
        "plt.xlabel(\"Canal de Marketing\")\n",
        "plt.savefig(\"plot13.png\")\n",
        "plt.show()"
      ],
      "metadata": {
        "colab": {
          "base_uri": "https://localhost:8080/",
          "height": 355
        },
        "id": "yu3Mve8UEyJ-",
        "outputId": "3fc7ed8b-f411-423a-eb67-1c72bedb2167"
      },
      "execution_count": null,
      "outputs": [
        {
          "output_type": "display_data",
          "data": {
            "image/png": "[encoded data removed]",
            "text/plain": [
              "<Figure size 864x360 with 1 Axes>"
            ]
          },
          "metadata": {}
        }
      ]
    }
  ]
}